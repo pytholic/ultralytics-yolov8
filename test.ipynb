{
 "cells": [
  {
   "cell_type": "code",
   "execution_count": 1,
   "metadata": {},
   "outputs": [],
   "source": [
    "from ultralytics import YOLO\n",
    "import numpy as np\n",
    "import cv2\n",
    "import matplotlib.pyplot as plt\n",
    "%matplotlib inline\n"
   ]
  },
  {
   "cell_type": "code",
   "execution_count": 2,
   "metadata": {},
   "outputs": [],
   "source": [
    "\n",
    "# Load a model\n",
    "model = YOLO(\"yolov8n-seg.pt\")  # load a pretrained model (recommended for training)"
   ]
  },
  {
   "cell_type": "code",
   "execution_count": 3,
   "metadata": {},
   "outputs": [
    {
     "name": "stderr",
     "output_type": "stream",
     "text": [
      "\n"
     ]
    }
   ],
   "source": [
    "# Use the model\n",
    "source = \"./sample-images/bus.jpg\"  # predict on an image\n",
    "res = model.predict(source, save=True, hide_labels=True, hide_conf=True, boxes=False)"
   ]
  },
  {
   "cell_type": "code",
   "execution_count": 4,
   "metadata": {},
   "outputs": [
    {
     "name": "stdout",
     "output_type": "stream",
     "text": [
      "(1080, 810, 3)\n"
     ]
    }
   ],
   "source": [
    "print(np.array(res).shape)"
   ]
  },
  {
   "cell_type": "code",
   "execution_count": 5,
   "metadata": {},
   "outputs": [],
   "source": [
    "res = np.array(res)"
   ]
  },
  {
   "cell_type": "code",
   "execution_count": 6,
   "metadata": {},
   "outputs": [],
   "source": [
    "cv2.imshow(\"Image\", res)  \n",
    "cv2.waitKey(0)\n",
    "cv2.destroyAllWindows()"
   ]
  },
  {
   "cell_type": "code",
   "execution_count": 7,
   "metadata": {},
   "outputs": [
    {
     "name": "stdout",
     "output_type": "stream",
     "text": [
      "(1080, 810, 3)\n"
     ]
    }
   ],
   "source": [
    "img = cv2.imread(\"./sample-images/bus.jpg\")\n",
    "print(img.shape)"
   ]
  },
  {
   "attachments": {},
   "cell_type": "markdown",
   "metadata": {},
   "source": [
    "## Custom Data"
   ]
  },
  {
   "cell_type": "code",
   "execution_count": 3,
   "metadata": {},
   "outputs": [
    {
     "name": "stdout",
     "output_type": "stream",
     "text": [
      "(25, 3, 328, 584)\n"
     ]
    }
   ],
   "source": [
    "images = np.load(\"./sample-images/data.npy\")\n",
    "print(images.shape)\n",
    "# for image in images:\n",
    "#     print(image.shape)\n",
    "#     break"
   ]
  },
  {
   "cell_type": "code",
   "execution_count": 4,
   "metadata": {},
   "outputs": [],
   "source": [
    "img_cwh = images[0]\n",
    "img_hwc = np.transpose(img_cwh, (1, 2, 0))"
   ]
  },
  {
   "cell_type": "code",
   "execution_count": 5,
   "metadata": {},
   "outputs": [
    {
     "name": "stdout",
     "output_type": "stream",
     "text": [
      "(328, 584, 3)\n"
     ]
    }
   ],
   "source": [
    "print(img_hwc.shape)"
   ]
  },
  {
   "cell_type": "code",
   "execution_count": 6,
   "metadata": {},
   "outputs": [],
   "source": [
    "# cv2.imshow(\"Image\", img_hwc)  \n",
    "# cv2.waitKey(0)\n",
    "# cv2.destroyAllWindows()"
   ]
  },
  {
   "cell_type": "code",
   "execution_count": 7,
   "metadata": {},
   "outputs": [
    {
     "name": "stderr",
     "output_type": "stream",
     "text": [
      "\n",
      "0: 384x640 6 persons, 2 cups, 3 chairs, 2 tvs, 4 laptops, 1 mouse, 1 keyboard, 76.3ms\n",
      "Speed: 1.1ms preprocess, 76.3ms inference, 11.0ms postprocess per image at shape (1, 3, 640, 640)\n",
      "Results saved to \u001b[1m/Users/pytholic/Developer/deltax/ultralytics-yolov8/runs/segment/predict8\u001b[0m\n"
     ]
    },
    {
     "data": {
      "text/plain": [
       "[ultralytics.yolo.engine.results.Results object with attributes:\n",
       " \n",
       " _keys: ('boxes', 'masks', 'probs')\n",
       " boxes: ultralytics.yolo.engine.results.Boxes object\n",
       " keys: ['boxes', 'masks']\n",
       " masks: ultralytics.yolo.engine.results.Masks object\n",
       " names: {0: 'person', 1: 'bicycle', 2: 'car', 3: 'motorcycle', 4: 'airplane', 5: 'bus', 6: 'train', 7: 'truck', 8: 'boat', 9: 'traffic light', 10: 'fire hydrant', 11: 'stop sign', 12: 'parking meter', 13: 'bench', 14: 'bird', 15: 'cat', 16: 'dog', 17: 'horse', 18: 'sheep', 19: 'cow', 20: 'elephant', 21: 'bear', 22: 'zebra', 23: 'giraffe', 24: 'backpack', 25: 'umbrella', 26: 'handbag', 27: 'tie', 28: 'suitcase', 29: 'frisbee', 30: 'skis', 31: 'snowboard', 32: 'sports ball', 33: 'kite', 34: 'baseball bat', 35: 'baseball glove', 36: 'skateboard', 37: 'surfboard', 38: 'tennis racket', 39: 'bottle', 40: 'wine glass', 41: 'cup', 42: 'fork', 43: 'knife', 44: 'spoon', 45: 'bowl', 46: 'banana', 47: 'apple', 48: 'sandwich', 49: 'orange', 50: 'broccoli', 51: 'carrot', 52: 'hot dog', 53: 'pizza', 54: 'donut', 55: 'cake', 56: 'chair', 57: 'couch', 58: 'potted plant', 59: 'bed', 60: 'dining table', 61: 'toilet', 62: 'tv', 63: 'laptop', 64: 'mouse', 65: 'remote', 66: 'keyboard', 67: 'cell phone', 68: 'microwave', 69: 'oven', 70: 'toaster', 71: 'sink', 72: 'refrigerator', 73: 'book', 74: 'clock', 75: 'vase', 76: 'scissors', 77: 'teddy bear', 78: 'hair drier', 79: 'toothbrush'}\n",
       " orig_img: array([[[147, 139, 142],\n",
       "         [149, 141, 145],\n",
       "         [149, 141, 145],\n",
       "         ...,\n",
       "         [116, 118, 126],\n",
       "         [121, 122, 131],\n",
       "         [117, 119, 128]],\n",
       " \n",
       "        [[148, 140, 144],\n",
       "         [149, 141, 145],\n",
       "         [149, 141, 145],\n",
       "         ...,\n",
       "         [118, 119, 128],\n",
       "         [120, 121, 130],\n",
       "         [116, 118, 127]],\n",
       " \n",
       "        [[148, 139, 143],\n",
       "         [149, 141, 145],\n",
       "         [149, 141, 145],\n",
       "         ...,\n",
       "         [114, 116, 124],\n",
       "         [113, 115, 124],\n",
       "         [112, 113, 122]],\n",
       " \n",
       "        ...,\n",
       " \n",
       "        [[ 92,  88,  88],\n",
       "         [ 91,  87,  87],\n",
       "         [ 90,  86,  86],\n",
       "         ...,\n",
       "         [187, 170, 162],\n",
       "         [185, 169, 162],\n",
       "         [184, 168, 162]],\n",
       " \n",
       "        [[ 94,  90,  90],\n",
       "         [ 93,  89,  89],\n",
       "         [ 91,  86,  87],\n",
       "         ...,\n",
       "         [186, 171, 162],\n",
       "         [184, 168, 161],\n",
       "         [183, 167, 161]],\n",
       " \n",
       "        [[ 97,  93,  93],\n",
       "         [ 96,  91,  92],\n",
       "         [ 94,  90,  90],\n",
       "         ...,\n",
       "         [185, 170, 161],\n",
       "         [183, 167, 160],\n",
       "         [181, 165, 159]]], dtype=uint8)\n",
       " orig_shape: (328, 584)\n",
       " path: 'image0.jpg'\n",
       " probs: None\n",
       " speed: {'preprocess': 1.132965087890625, 'inference': 76.33829116821289, 'postprocess': 11.0321044921875}]"
      ]
     },
     "execution_count": 7,
     "metadata": {},
     "output_type": "execute_result"
    }
   ],
   "source": [
    "model.predict(img_hwc, save=True, hide_labels=True, hide_conf=True, boxes=False)"
   ]
  },
  {
   "cell_type": "code",
   "execution_count": 8,
   "metadata": {},
   "outputs": [
    {
     "name": "stderr",
     "output_type": "stream",
     "text": [
      "\n",
      "0: 384x640 6 persons, 2 cups, 3 chairs, 2 tvs, 4 laptops, 1 mouse, 1 keyboard, 103.8ms\n",
      "Speed: 7.3ms preprocess, 103.8ms inference, 9.7ms postprocess per image at shape (1, 3, 640, 640)\n"
     ]
    },
    {
     "name": "stdout",
     "output_type": "stream",
     "text": [
      "[ultralytics.yolo.engine.results.Results object with attributes:\n",
      "\n",
      "_keys: ('boxes', 'masks', 'probs')\n",
      "boxes: ultralytics.yolo.engine.results.Boxes object\n",
      "keys: ['boxes', 'masks']\n",
      "masks: ultralytics.yolo.engine.results.Masks object\n",
      "names: {0: 'person', 1: 'bicycle', 2: 'car', 3: 'motorcycle', 4: 'airplane', 5: 'bus', 6: 'train', 7: 'truck', 8: 'boat', 9: 'traffic light', 10: 'fire hydrant', 11: 'stop sign', 12: 'parking meter', 13: 'bench', 14: 'bird', 15: 'cat', 16: 'dog', 17: 'horse', 18: 'sheep', 19: 'cow', 20: 'elephant', 21: 'bear', 22: 'zebra', 23: 'giraffe', 24: 'backpack', 25: 'umbrella', 26: 'handbag', 27: 'tie', 28: 'suitcase', 29: 'frisbee', 30: 'skis', 31: 'snowboard', 32: 'sports ball', 33: 'kite', 34: 'baseball bat', 35: 'baseball glove', 36: 'skateboard', 37: 'surfboard', 38: 'tennis racket', 39: 'bottle', 40: 'wine glass', 41: 'cup', 42: 'fork', 43: 'knife', 44: 'spoon', 45: 'bowl', 46: 'banana', 47: 'apple', 48: 'sandwich', 49: 'orange', 50: 'broccoli', 51: 'carrot', 52: 'hot dog', 53: 'pizza', 54: 'donut', 55: 'cake', 56: 'chair', 57: 'couch', 58: 'potted plant', 59: 'bed', 60: 'dining table', 61: 'toilet', 62: 'tv', 63: 'laptop', 64: 'mouse', 65: 'remote', 66: 'keyboard', 67: 'cell phone', 68: 'microwave', 69: 'oven', 70: 'toaster', 71: 'sink', 72: 'refrigerator', 73: 'book', 74: 'clock', 75: 'vase', 76: 'scissors', 77: 'teddy bear', 78: 'hair drier', 79: 'toothbrush'}\n",
      "orig_img: array([[[147, 139, 142],\n",
      "        [149, 141, 145],\n",
      "        [149, 141, 145],\n",
      "        ...,\n",
      "        [116, 118, 126],\n",
      "        [121, 122, 131],\n",
      "        [117, 119, 128]],\n",
      "\n",
      "       [[148, 140, 144],\n",
      "        [149, 141, 145],\n",
      "        [149, 141, 145],\n",
      "        ...,\n",
      "        [118, 119, 128],\n",
      "        [120, 121, 130],\n",
      "        [116, 118, 127]],\n",
      "\n",
      "       [[148, 139, 143],\n",
      "        [149, 141, 145],\n",
      "        [149, 141, 145],\n",
      "        ...,\n",
      "        [114, 116, 124],\n",
      "        [113, 115, 124],\n",
      "        [112, 113, 122]],\n",
      "\n",
      "       ...,\n",
      "\n",
      "       [[ 92,  88,  88],\n",
      "        [ 91,  87,  87],\n",
      "        [ 90,  86,  86],\n",
      "        ...,\n",
      "        [187, 170, 162],\n",
      "        [185, 169, 162],\n",
      "        [184, 168, 162]],\n",
      "\n",
      "       [[ 94,  90,  90],\n",
      "        [ 93,  89,  89],\n",
      "        [ 91,  86,  87],\n",
      "        ...,\n",
      "        [186, 171, 162],\n",
      "        [184, 168, 161],\n",
      "        [183, 167, 161]],\n",
      "\n",
      "       [[ 97,  93,  93],\n",
      "        [ 96,  91,  92],\n",
      "        [ 94,  90,  90],\n",
      "        ...,\n",
      "        [185, 170, 161],\n",
      "        [183, 167, 160],\n",
      "        [181, 165, 159]]], dtype=uint8)\n",
      "orig_shape: (328, 584)\n",
      "path: 'image0.jpg'\n",
      "probs: None\n",
      "speed: {'preprocess': 7.339954376220703, 'inference': 103.84392738342285, 'postprocess': 9.711742401123047}]\n"
     ]
    }
   ],
   "source": [
    "res = model.predict(img_hwc, hide_labels=True, hide_conf=True, boxes=False)"
   ]
  },
  {
   "cell_type": "code",
   "execution_count": null,
   "metadata": {},
   "outputs": [],
   "source": []
  }
 ],
 "metadata": {
  "kernelspec": {
   "display_name": "yolov8",
   "language": "python",
   "name": "python3"
  },
  "language_info": {
   "codemirror_mode": {
    "name": "ipython",
    "version": 3
   },
   "file_extension": ".py",
   "mimetype": "text/x-python",
   "name": "python",
   "nbconvert_exporter": "python",
   "pygments_lexer": "ipython3",
   "version": "3.10.10"
  },
  "orig_nbformat": 4
 },
 "nbformat": 4,
 "nbformat_minor": 2
}
